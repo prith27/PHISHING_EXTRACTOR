{
 "cells": [
  {
   "cell_type": "markdown",
   "metadata": {},
   "source": [
    "# MLP MODEL"
   ]
  },
  {
   "cell_type": "markdown",
   "metadata": {},
   "source": [
    "# Importing dataset and libraries"
   ]
  },
  {
   "cell_type": "code",
   "execution_count": 1,
   "metadata": {},
   "outputs": [],
   "source": [
    "import numpy as np\n",
    "import pandas as pd\n",
    "import matplotlib.pyplot as plt\n",
    "import seaborn as sns"
   ]
  },
  {
   "cell_type": "code",
   "execution_count": 2,
   "metadata": {},
   "outputs": [],
   "source": [
    "df=pd.read_csv(r'C:\\Users\\prith\\Downloads\\dataset_full.csv')"
   ]
  },
  {
   "cell_type": "code",
   "execution_count": 3,
   "metadata": {},
   "outputs": [
    {
     "data": {
      "text/html": [
       "<div>\n",
       "<style scoped>\n",
       "    .dataframe tbody tr th:only-of-type {\n",
       "        vertical-align: middle;\n",
       "    }\n",
       "\n",
       "    .dataframe tbody tr th {\n",
       "        vertical-align: top;\n",
       "    }\n",
       "\n",
       "    .dataframe thead th {\n",
       "        text-align: right;\n",
       "    }\n",
       "</style>\n",
       "<table border=\"1\" class=\"dataframe\">\n",
       "  <thead>\n",
       "    <tr style=\"text-align: right;\">\n",
       "      <th></th>\n",
       "      <th>qty_dot_url</th>\n",
       "      <th>qty_hyphen_url</th>\n",
       "      <th>qty_underline_url</th>\n",
       "      <th>qty_slash_url</th>\n",
       "      <th>qty_questionmark_url</th>\n",
       "      <th>qty_equal_url</th>\n",
       "      <th>qty_at_url</th>\n",
       "      <th>qty_and_url</th>\n",
       "      <th>qty_exclamation_url</th>\n",
       "      <th>qty_space_url</th>\n",
       "      <th>...</th>\n",
       "      <th>qty_ip_resolved</th>\n",
       "      <th>qty_nameservers</th>\n",
       "      <th>qty_mx_servers</th>\n",
       "      <th>ttl_hostname</th>\n",
       "      <th>tls_ssl_certificate</th>\n",
       "      <th>qty_redirects</th>\n",
       "      <th>url_google_index</th>\n",
       "      <th>domain_google_index</th>\n",
       "      <th>url_shortened</th>\n",
       "      <th>phishing</th>\n",
       "    </tr>\n",
       "  </thead>\n",
       "  <tbody>\n",
       "    <tr>\n",
       "      <th>0</th>\n",
       "      <td>3</td>\n",
       "      <td>0</td>\n",
       "      <td>0</td>\n",
       "      <td>1</td>\n",
       "      <td>0</td>\n",
       "      <td>0</td>\n",
       "      <td>0</td>\n",
       "      <td>0</td>\n",
       "      <td>0</td>\n",
       "      <td>0</td>\n",
       "      <td>...</td>\n",
       "      <td>1</td>\n",
       "      <td>2</td>\n",
       "      <td>0</td>\n",
       "      <td>892</td>\n",
       "      <td>0</td>\n",
       "      <td>0</td>\n",
       "      <td>0</td>\n",
       "      <td>0</td>\n",
       "      <td>0</td>\n",
       "      <td>1</td>\n",
       "    </tr>\n",
       "    <tr>\n",
       "      <th>1</th>\n",
       "      <td>5</td>\n",
       "      <td>0</td>\n",
       "      <td>1</td>\n",
       "      <td>3</td>\n",
       "      <td>0</td>\n",
       "      <td>3</td>\n",
       "      <td>0</td>\n",
       "      <td>2</td>\n",
       "      <td>0</td>\n",
       "      <td>0</td>\n",
       "      <td>...</td>\n",
       "      <td>1</td>\n",
       "      <td>2</td>\n",
       "      <td>1</td>\n",
       "      <td>9540</td>\n",
       "      <td>1</td>\n",
       "      <td>0</td>\n",
       "      <td>0</td>\n",
       "      <td>0</td>\n",
       "      <td>0</td>\n",
       "      <td>1</td>\n",
       "    </tr>\n",
       "    <tr>\n",
       "      <th>2</th>\n",
       "      <td>2</td>\n",
       "      <td>0</td>\n",
       "      <td>0</td>\n",
       "      <td>1</td>\n",
       "      <td>0</td>\n",
       "      <td>0</td>\n",
       "      <td>0</td>\n",
       "      <td>0</td>\n",
       "      <td>0</td>\n",
       "      <td>0</td>\n",
       "      <td>...</td>\n",
       "      <td>1</td>\n",
       "      <td>2</td>\n",
       "      <td>3</td>\n",
       "      <td>589</td>\n",
       "      <td>1</td>\n",
       "      <td>0</td>\n",
       "      <td>0</td>\n",
       "      <td>0</td>\n",
       "      <td>0</td>\n",
       "      <td>0</td>\n",
       "    </tr>\n",
       "    <tr>\n",
       "      <th>3</th>\n",
       "      <td>4</td>\n",
       "      <td>0</td>\n",
       "      <td>2</td>\n",
       "      <td>5</td>\n",
       "      <td>0</td>\n",
       "      <td>0</td>\n",
       "      <td>0</td>\n",
       "      <td>0</td>\n",
       "      <td>0</td>\n",
       "      <td>0</td>\n",
       "      <td>...</td>\n",
       "      <td>1</td>\n",
       "      <td>2</td>\n",
       "      <td>0</td>\n",
       "      <td>292</td>\n",
       "      <td>1</td>\n",
       "      <td>0</td>\n",
       "      <td>0</td>\n",
       "      <td>0</td>\n",
       "      <td>0</td>\n",
       "      <td>1</td>\n",
       "    </tr>\n",
       "    <tr>\n",
       "      <th>4</th>\n",
       "      <td>2</td>\n",
       "      <td>0</td>\n",
       "      <td>0</td>\n",
       "      <td>0</td>\n",
       "      <td>0</td>\n",
       "      <td>0</td>\n",
       "      <td>0</td>\n",
       "      <td>0</td>\n",
       "      <td>0</td>\n",
       "      <td>0</td>\n",
       "      <td>...</td>\n",
       "      <td>1</td>\n",
       "      <td>2</td>\n",
       "      <td>1</td>\n",
       "      <td>3597</td>\n",
       "      <td>0</td>\n",
       "      <td>1</td>\n",
       "      <td>0</td>\n",
       "      <td>0</td>\n",
       "      <td>0</td>\n",
       "      <td>0</td>\n",
       "    </tr>\n",
       "  </tbody>\n",
       "</table>\n",
       "<p>5 rows × 112 columns</p>\n",
       "</div>"
      ],
      "text/plain": [
       "   qty_dot_url  qty_hyphen_url  qty_underline_url  qty_slash_url  \\\n",
       "0            3               0                  0              1   \n",
       "1            5               0                  1              3   \n",
       "2            2               0                  0              1   \n",
       "3            4               0                  2              5   \n",
       "4            2               0                  0              0   \n",
       "\n",
       "   qty_questionmark_url  qty_equal_url  qty_at_url  qty_and_url  \\\n",
       "0                     0              0           0            0   \n",
       "1                     0              3           0            2   \n",
       "2                     0              0           0            0   \n",
       "3                     0              0           0            0   \n",
       "4                     0              0           0            0   \n",
       "\n",
       "   qty_exclamation_url  qty_space_url  ...  qty_ip_resolved  qty_nameservers  \\\n",
       "0                    0              0  ...                1                2   \n",
       "1                    0              0  ...                1                2   \n",
       "2                    0              0  ...                1                2   \n",
       "3                    0              0  ...                1                2   \n",
       "4                    0              0  ...                1                2   \n",
       "\n",
       "   qty_mx_servers  ttl_hostname  tls_ssl_certificate  qty_redirects  \\\n",
       "0               0           892                    0              0   \n",
       "1               1          9540                    1              0   \n",
       "2               3           589                    1              0   \n",
       "3               0           292                    1              0   \n",
       "4               1          3597                    0              1   \n",
       "\n",
       "   url_google_index  domain_google_index  url_shortened  phishing  \n",
       "0                 0                    0              0         1  \n",
       "1                 0                    0              0         1  \n",
       "2                 0                    0              0         0  \n",
       "3                 0                    0              0         1  \n",
       "4                 0                    0              0         0  \n",
       "\n",
       "[5 rows x 112 columns]"
      ]
     },
     "execution_count": 3,
     "metadata": {},
     "output_type": "execute_result"
    }
   ],
   "source": [
    "df.head()"
   ]
  },
  {
   "cell_type": "markdown",
   "metadata": {},
   "source": [
    "# Splitting into Training and Test set"
   ]
  },
  {
   "cell_type": "code",
   "execution_count": 12,
   "metadata": {},
   "outputs": [],
   "source": [
    "X=df.drop('phishing',axis=1).values\n",
    "y=df['phishing'].values"
   ]
  },
  {
   "cell_type": "code",
   "execution_count": 13,
   "metadata": {},
   "outputs": [],
   "source": [
    "from sklearn.model_selection import train_test_split\n",
    "X_train, X_test, y_train, y_test = train_test_split(X, y, test_size=0.3, random_state=42)"
   ]
  },
  {
   "cell_type": "code",
   "execution_count": 14,
   "metadata": {},
   "outputs": [],
   "source": [
    "from sklearn.preprocessing import StandardScaler\n",
    "scaler=StandardScaler()\n",
    "X_train=scaler.fit_transform(X_train)\n",
    "X_test=scaler.transform(X_test)"
   ]
  },
  {
   "cell_type": "markdown",
   "metadata": {},
   "source": [
    "# Creating MLP Model"
   ]
  },
  {
   "cell_type": "code",
   "execution_count": 7,
   "metadata": {},
   "outputs": [],
   "source": [
    "from tensorflow.keras.models import Sequential\n",
    "from tensorflow.keras.layers import Dense,Dropout\n",
    "from tensorflow.keras.callbacks import EarlyStopping"
   ]
  },
  {
   "cell_type": "code",
   "execution_count": 8,
   "metadata": {},
   "outputs": [],
   "source": [
    "early_stop=EarlyStopping(monitor='val_loss',mode='min',patience=10)"
   ]
  },
  {
   "cell_type": "code",
   "execution_count": 9,
   "metadata": {},
   "outputs": [
    {
     "data": {
      "text/plain": [
       "(62052, 111)"
      ]
     },
     "execution_count": 9,
     "metadata": {},
     "output_type": "execute_result"
    }
   ],
   "source": [
    "X_train.shape"
   ]
  },
  {
   "cell_type": "code",
   "execution_count": 10,
   "metadata": {},
   "outputs": [],
   "source": [
    "model=Sequential()\n",
    "\n",
    "model.add(Dense(111,activation='relu'))\n",
    "model.add(Dropout(0.4))\n",
    "\n",
    "model.add(Dense(55,activation='relu'))\n",
    "model.add(Dense(25,activation='relu'))\n",
    "\n",
    "model.add(Dense(1,activation='sigmoid'))\n",
    "model.compile(optimizer='adam',loss='binary_crossentropy',metrics=['accuracy'])\n"
   ]
  },
  {
   "cell_type": "code",
   "execution_count": 15,
   "metadata": {},
   "outputs": [
    {
     "name": "stdout",
     "output_type": "stream",
     "text": [
      "Train on 62052 samples, validate on 26595 samples\n",
      "Epoch 1/300\n",
      "62052/62052 [==============================] - 13s 204us/sample - loss: 0.1807 - accuracy: 0.9273 - val_loss: 0.1509 - val_accuracy: 0.9384\n",
      "Epoch 2/300\n",
      "62052/62052 [==============================] - 13s 209us/sample - loss: 0.1490 - accuracy: 0.9409 - val_loss: 0.1362 - val_accuracy: 0.9457\n",
      "Epoch 3/300\n",
      "62052/62052 [==============================] - 10s 155us/sample - loss: 0.1385 - accuracy: 0.9459 - val_loss: 0.1290 - val_accuracy: 0.9493\n",
      "Epoch 4/300\n",
      "62052/62052 [==============================] - 10s 167us/sample - loss: 0.1323 - accuracy: 0.9482 - val_loss: 0.1266 - val_accuracy: 0.9507\n",
      "Epoch 5/300\n",
      "62052/62052 [==============================] - 12s 201us/sample - loss: 0.1316 - accuracy: 0.9492 - val_loss: 0.1240 - val_accuracy: 0.9514\n",
      "Epoch 6/300\n",
      "62052/62052 [==============================] - 10s 159us/sample - loss: 0.1280 - accuracy: 0.9506 - val_loss: 0.1228 - val_accuracy: 0.9525\n",
      "Epoch 7/300\n",
      "62052/62052 [==============================] - 11s 178us/sample - loss: 0.1245 - accuracy: 0.9518 - val_loss: 0.1219 - val_accuracy: 0.9533\n",
      "Epoch 8/300\n",
      "62052/62052 [==============================] - 11s 176us/sample - loss: 0.1248 - accuracy: 0.9524 - val_loss: 0.1179 - val_accuracy: 0.9556\n",
      "Epoch 9/300\n",
      "62052/62052 [==============================] - 11s 179us/sample - loss: 0.1208 - accuracy: 0.9536 - val_loss: 0.1218 - val_accuracy: 0.9527\n",
      "Epoch 10/300\n",
      "62052/62052 [==============================] - 10s 158us/sample - loss: 0.1208 - accuracy: 0.9538 - val_loss: 0.1191 - val_accuracy: 0.9544\n",
      "Epoch 11/300\n",
      "62052/62052 [==============================] - 12s 197us/sample - loss: 0.1192 - accuracy: 0.9548 - val_loss: 0.1176 - val_accuracy: 0.9549\n",
      "Epoch 12/300\n",
      "62052/62052 [==============================] - 10s 167us/sample - loss: 0.1176 - accuracy: 0.9554 - val_loss: 0.1170 - val_accuracy: 0.9556\n",
      "Epoch 13/300\n",
      "62052/62052 [==============================] - 12s 186us/sample - loss: 0.1171 - accuracy: 0.9556 - val_loss: 0.1147 - val_accuracy: 0.9565\n",
      "Epoch 14/300\n",
      "62052/62052 [==============================] - 12s 186us/sample - loss: 0.1161 - accuracy: 0.9548 - val_loss: 0.1156 - val_accuracy: 0.9560\n",
      "Epoch 15/300\n",
      "62052/62052 [==============================] - 12s 195us/sample - loss: 0.1154 - accuracy: 0.9554 - val_loss: 0.1161 - val_accuracy: 0.9558\n",
      "Epoch 16/300\n",
      "62052/62052 [==============================] - 12s 192us/sample - loss: 0.1143 - accuracy: 0.9566 - val_loss: 0.1166 - val_accuracy: 0.9559\n",
      "Epoch 17/300\n",
      "62052/62052 [==============================] - 10s 163us/sample - loss: 0.1133 - accuracy: 0.9570 - val_loss: 0.1168 - val_accuracy: 0.9554\n",
      "Epoch 18/300\n",
      "62052/62052 [==============================] - 9s 151us/sample - loss: 0.1126 - accuracy: 0.9573 - val_loss: 0.1137 - val_accuracy: 0.9563\n",
      "Epoch 19/300\n",
      "62052/62052 [==============================] - 10s 158us/sample - loss: 0.1113 - accuracy: 0.9581 - val_loss: 0.1127 - val_accuracy: 0.9572\n",
      "Epoch 20/300\n",
      "62052/62052 [==============================] - 10s 163us/sample - loss: 0.1107 - accuracy: 0.9571 - val_loss: 0.1121 - val_accuracy: 0.9577\n",
      "Epoch 21/300\n",
      "62052/62052 [==============================] - 11s 176us/sample - loss: 0.1097 - accuracy: 0.9589 - val_loss: 0.1118 - val_accuracy: 0.9578\n",
      "Epoch 22/300\n",
      "62052/62052 [==============================] - 9s 150us/sample - loss: 0.1100 - accuracy: 0.9582 - val_loss: 0.1125 - val_accuracy: 0.9574\n",
      "Epoch 23/300\n",
      "62052/62052 [==============================] - 10s 160us/sample - loss: 0.1094 - accuracy: 0.9585 - val_loss: 0.1115 - val_accuracy: 0.9585\n",
      "Epoch 24/300\n",
      "62052/62052 [==============================] - 10s 158us/sample - loss: 0.1094 - accuracy: 0.9590 - val_loss: 0.1138 - val_accuracy: 0.9568\n",
      "Epoch 25/300\n",
      "62052/62052 [==============================] - 10s 161us/sample - loss: 0.1094 - accuracy: 0.9585 - val_loss: 0.1113 - val_accuracy: 0.9576\n",
      "Epoch 26/300\n",
      "62052/62052 [==============================] - 10s 154us/sample - loss: 0.1091 - accuracy: 0.9588 - val_loss: 0.1133 - val_accuracy: 0.9563\n",
      "Epoch 27/300\n",
      "62052/62052 [==============================] - 10s 164us/sample - loss: 0.1072 - accuracy: 0.9596 - val_loss: 0.1104 - val_accuracy: 0.9595\n",
      "Epoch 28/300\n",
      "62052/62052 [==============================] - 9s 143us/sample - loss: 0.1073 - accuracy: 0.9590 - val_loss: 0.1102 - val_accuracy: 0.9594\n",
      "Epoch 29/300\n",
      "62052/62052 [==============================] - 10s 158us/sample - loss: 0.1073 - accuracy: 0.9592 - val_loss: 0.1118 - val_accuracy: 0.9582\n",
      "Epoch 30/300\n",
      "62052/62052 [==============================] - 9s 146us/sample - loss: 0.1051 - accuracy: 0.9604 - val_loss: 0.1118 - val_accuracy: 0.9584\n",
      "Epoch 31/300\n",
      "62052/62052 [==============================] - 14s 218us/sample - loss: 0.1061 - accuracy: 0.9596 - val_loss: 0.1112 - val_accuracy: 0.9586\n",
      "Epoch 32/300\n",
      "62052/62052 [==============================] - 10s 159us/sample - loss: 0.1046 - accuracy: 0.9603 - val_loss: 0.1104 - val_accuracy: 0.9587\n",
      "Epoch 33/300\n",
      "62052/62052 [==============================] - 12s 191us/sample - loss: 0.1055 - accuracy: 0.9598 - val_loss: 0.1080 - val_accuracy: 0.9592\n",
      "Epoch 34/300\n",
      "62052/62052 [==============================] - 10s 163us/sample - loss: 0.1048 - accuracy: 0.9603 - val_loss: 0.1096 - val_accuracy: 0.9587\n",
      "Epoch 35/300\n",
      "62052/62052 [==============================] - 12s 187us/sample - loss: 0.1045 - accuracy: 0.9608 - val_loss: 0.1093 - val_accuracy: 0.9588\n",
      "Epoch 36/300\n",
      "62052/62052 [==============================] - 10s 168us/sample - loss: 0.1032 - accuracy: 0.9620 - val_loss: 0.1101 - val_accuracy: 0.9585\n",
      "Epoch 37/300\n",
      "62052/62052 [==============================] - 11s 179us/sample - loss: 0.1030 - accuracy: 0.9607 - val_loss: 0.1088 - val_accuracy: 0.9592\n",
      "Epoch 38/300\n",
      "62052/62052 [==============================] - 10s 162us/sample - loss: 0.1034 - accuracy: 0.9609 - val_loss: 0.1109 - val_accuracy: 0.9592\n",
      "Epoch 39/300\n",
      "62052/62052 [==============================] - 15s 234us/sample - loss: 0.1035 - accuracy: 0.9605 - val_loss: 0.1100 - val_accuracy: 0.9590\n",
      "Epoch 40/300\n",
      "62052/62052 [==============================] - 11s 184us/sample - loss: 0.1016 - accuracy: 0.9618 - val_loss: 0.1117 - val_accuracy: 0.9589\n",
      "Epoch 41/300\n",
      "62052/62052 [==============================] - 11s 174us/sample - loss: 0.1027 - accuracy: 0.9606 - val_loss: 0.1084 - val_accuracy: 0.9595\n",
      "Epoch 42/300\n",
      "62052/62052 [==============================] - 10s 160us/sample - loss: 0.1016 - accuracy: 0.9619 - val_loss: 0.1087 - val_accuracy: 0.9591\n",
      "Epoch 43/300\n",
      "62052/62052 [==============================] - 11s 170us/sample - loss: 0.1013 - accuracy: 0.9618 - val_loss: 0.1102 - val_accuracy: 0.9596\n"
     ]
    },
    {
     "data": {
      "text/plain": [
       "<tensorflow.python.keras.callbacks.History at 0x2c72dcbfd88>"
      ]
     },
     "execution_count": 15,
     "metadata": {},
     "output_type": "execute_result"
    }
   ],
   "source": [
    "model.fit(X_train,y_train,epochs=300,validation_data=(X_test,y_test),callbacks=[early_stop])"
   ]
  },
  {
   "cell_type": "markdown",
   "metadata": {},
   "source": [
    "# Model Evaluation"
   ]
  },
  {
   "cell_type": "code",
   "execution_count": 16,
   "metadata": {},
   "outputs": [],
   "source": [
    "from sklearn.metrics import confusion_matrix,classification_report"
   ]
  },
  {
   "cell_type": "code",
   "execution_count": 19,
   "metadata": {},
   "outputs": [],
   "source": [
    "pred=model.predict_classes(X_test)"
   ]
  },
  {
   "cell_type": "code",
   "execution_count": 20,
   "metadata": {},
   "outputs": [
    {
     "name": "stdout",
     "output_type": "stream",
     "text": [
      "              precision    recall  f1-score   support\n",
      "\n",
      "           0       0.97      0.96      0.97     17449\n",
      "           1       0.93      0.95      0.94      9146\n",
      "\n",
      "    accuracy                           0.96     26595\n",
      "   macro avg       0.95      0.96      0.96     26595\n",
      "weighted avg       0.96      0.96      0.96     26595\n",
      "\n"
     ]
    }
   ],
   "source": [
    "print(classification_report(y_test,pred))"
   ]
  },
  {
   "cell_type": "markdown",
   "metadata": {},
   "source": [
    "# MLP Accuracy->96%"
   ]
  }
 ],
 "metadata": {
  "kernelspec": {
   "display_name": "Python 3 (ipykernel)",
   "language": "python",
   "name": "python3"
  },
  "language_info": {
   "codemirror_mode": {
    "name": "ipython",
    "version": 3
   },
   "file_extension": ".py",
   "mimetype": "text/x-python",
   "name": "python",
   "nbconvert_exporter": "python",
   "pygments_lexer": "ipython3",
   "version": "3.7.11"
  }
 },
 "nbformat": 4,
 "nbformat_minor": 4
}
